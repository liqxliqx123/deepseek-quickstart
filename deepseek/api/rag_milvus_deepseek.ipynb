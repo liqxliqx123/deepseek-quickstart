{
 "cells": [
  {
   "cell_type": "markdown",
   "id": "20549885",
   "metadata": {},
   "source": [
    "# 使用 Milvus 和 DeepSeek 构建 RAG\n",
    "\n",
    "DeepSeek 帮助开发者使用高性能语言模型构建和扩展 AI 应用。它提供高效的推理、灵活的 API 以及先进的专家混合 (MoE) 架构，用于强大的推理和检索任务。\n",
    "\n",
    "在本教程中，我们将展示如何使用 Milvus 和 DeepSeek 构建一个检索增强生成 (RAG) 管道。"
   ]
  },
  {
   "cell_type": "markdown",
   "id": "7394c701",
   "metadata": {},
   "source": [
    "## 准备工作"
   ]
  },
  {
   "cell_type": "markdown",
   "id": "89103a1e",
   "metadata": {},
   "source": [
    "### 依赖与环境"
   ]
  },
  {
   "cell_type": "code",
   "execution_count": 1,
   "id": "9c18d7b4",
   "metadata": {},
   "outputs": [
    {
     "name": "stdout",
     "output_type": "stream",
     "text": [
      "Collecting pymilvus==2.5.10 (from pymilvus[model]==2.5.10)\n",
      "  Using cached pymilvus-2.5.10-py3-none-any.whl.metadata (5.7 kB)\n",
      "Requirement already satisfied: openai==1.82.0 in /root/miniconda3/envs/deepseek/lib/python3.13/site-packages (1.82.0)\n",
      "Collecting requests==2.32.3\n",
      "  Using cached requests-2.32.3-py3-none-any.whl.metadata (4.6 kB)\n",
      "Requirement already satisfied: tqdm==4.67.1 in /root/miniconda3/envs/deepseek/lib/python3.13/site-packages (4.67.1)\n",
      "Collecting torch==2.7.0\n",
      "  Using cached torch-2.7.0-cp313-cp313-manylinux_2_28_x86_64.whl.metadata (29 kB)\n",
      "Requirement already satisfied: setuptools>69 in /root/miniconda3/envs/deepseek/lib/python3.13/site-packages (from pymilvus==2.5.10->pymilvus[model]==2.5.10) (78.1.1)\n",
      "Collecting grpcio<=1.67.1,>=1.49.1 (from pymilvus==2.5.10->pymilvus[model]==2.5.10)\n",
      "  Using cached grpcio-1.67.1-cp313-cp313-manylinux_2_17_x86_64.manylinux2014_x86_64.whl.metadata (3.9 kB)\n",
      "Collecting protobuf>=3.20.0 (from pymilvus==2.5.10->pymilvus[model]==2.5.10)\n",
      "  Using cached protobuf-6.31.1-cp39-abi3-manylinux2014_x86_64.whl.metadata (593 bytes)\n",
      "Collecting python-dotenv<2.0.0,>=1.0.1 (from pymilvus==2.5.10->pymilvus[model]==2.5.10)\n",
      "  Using cached python_dotenv-1.1.1-py3-none-any.whl.metadata (24 kB)\n",
      "Collecting ujson>=2.0.0 (from pymilvus==2.5.10->pymilvus[model]==2.5.10)\n",
      "  Using cached ujson-5.10.0-cp313-cp313-manylinux_2_17_x86_64.manylinux2014_x86_64.whl.metadata (9.3 kB)\n",
      "Collecting pandas>=1.2.4 (from pymilvus==2.5.10->pymilvus[model]==2.5.10)\n",
      "  Using cached pandas-2.3.1-cp313-cp313-manylinux_2_17_x86_64.manylinux2014_x86_64.whl.metadata (91 kB)\n",
      "Collecting milvus-lite>=2.4.0 (from pymilvus==2.5.10->pymilvus[model]==2.5.10)\n",
      "  Using cached milvus_lite-2.5.1-py3-none-manylinux2014_x86_64.whl.metadata (10.0 kB)\n",
      "Requirement already satisfied: anyio<5,>=3.5.0 in /root/miniconda3/envs/deepseek/lib/python3.13/site-packages (from openai==1.82.0) (4.9.0)\n",
      "Requirement already satisfied: distro<2,>=1.7.0 in /root/miniconda3/envs/deepseek/lib/python3.13/site-packages (from openai==1.82.0) (1.9.0)\n",
      "Requirement already satisfied: httpx<1,>=0.23.0 in /root/miniconda3/envs/deepseek/lib/python3.13/site-packages (from openai==1.82.0) (0.28.1)\n",
      "Requirement already satisfied: jiter<1,>=0.4.0 in /root/miniconda3/envs/deepseek/lib/python3.13/site-packages (from openai==1.82.0) (0.10.0)\n",
      "Requirement already satisfied: pydantic<3,>=1.9.0 in /root/miniconda3/envs/deepseek/lib/python3.13/site-packages (from openai==1.82.0) (2.11.7)\n",
      "Requirement already satisfied: sniffio in /root/miniconda3/envs/deepseek/lib/python3.13/site-packages (from openai==1.82.0) (1.3.1)\n",
      "Requirement already satisfied: typing-extensions<5,>=4.11 in /root/miniconda3/envs/deepseek/lib/python3.13/site-packages (from openai==1.82.0) (4.14.1)\n",
      "Requirement already satisfied: charset-normalizer<4,>=2 in /root/miniconda3/envs/deepseek/lib/python3.13/site-packages (from requests==2.32.3) (3.4.2)\n",
      "Requirement already satisfied: idna<4,>=2.5 in /root/miniconda3/envs/deepseek/lib/python3.13/site-packages (from requests==2.32.3) (3.10)\n",
      "Requirement already satisfied: urllib3<3,>=1.21.1 in /root/miniconda3/envs/deepseek/lib/python3.13/site-packages (from requests==2.32.3) (2.5.0)\n",
      "Requirement already satisfied: certifi>=2017.4.17 in /root/miniconda3/envs/deepseek/lib/python3.13/site-packages (from requests==2.32.3) (2025.7.14)\n",
      "Collecting filelock (from torch==2.7.0)\n",
      "  Using cached filelock-3.18.0-py3-none-any.whl.metadata (2.9 kB)\n",
      "Collecting sympy>=1.13.3 (from torch==2.7.0)\n",
      "  Using cached sympy-1.14.0-py3-none-any.whl.metadata (12 kB)\n",
      "Collecting networkx (from torch==2.7.0)\n",
      "  Using cached networkx-3.5-py3-none-any.whl.metadata (6.3 kB)\n",
      "Requirement already satisfied: jinja2 in /root/miniconda3/envs/deepseek/lib/python3.13/site-packages (from torch==2.7.0) (3.1.6)\n",
      "Collecting fsspec (from torch==2.7.0)\n",
      "  Using cached fsspec-2025.7.0-py3-none-any.whl.metadata (12 kB)\n",
      "Collecting nvidia-cuda-nvrtc-cu12==12.6.77 (from torch==2.7.0)\n",
      "  Using cached nvidia_cuda_nvrtc_cu12-12.6.77-py3-none-manylinux2014_x86_64.whl.metadata (1.5 kB)\n",
      "Collecting nvidia-cuda-runtime-cu12==12.6.77 (from torch==2.7.0)\n",
      "  Using cached nvidia_cuda_runtime_cu12-12.6.77-py3-none-manylinux2014_x86_64.manylinux_2_17_x86_64.whl.metadata (1.5 kB)\n",
      "Collecting nvidia-cuda-cupti-cu12==12.6.80 (from torch==2.7.0)\n",
      "  Using cached nvidia_cuda_cupti_cu12-12.6.80-py3-none-manylinux2014_x86_64.manylinux_2_17_x86_64.whl.metadata (1.6 kB)\n",
      "Collecting nvidia-cudnn-cu12==9.5.1.17 (from torch==2.7.0)\n",
      "  Using cached nvidia_cudnn_cu12-9.5.1.17-py3-none-manylinux_2_28_x86_64.whl.metadata (1.6 kB)\n",
      "Collecting nvidia-cublas-cu12==12.6.4.1 (from torch==2.7.0)\n",
      "  Using cached nvidia_cublas_cu12-12.6.4.1-py3-none-manylinux2014_x86_64.manylinux_2_17_x86_64.whl.metadata (1.5 kB)\n",
      "Collecting nvidia-cufft-cu12==11.3.0.4 (from torch==2.7.0)\n",
      "  Using cached nvidia_cufft_cu12-11.3.0.4-py3-none-manylinux2014_x86_64.manylinux_2_17_x86_64.whl.metadata (1.5 kB)\n",
      "Collecting nvidia-curand-cu12==10.3.7.77 (from torch==2.7.0)\n",
      "  Using cached nvidia_curand_cu12-10.3.7.77-py3-none-manylinux2014_x86_64.manylinux_2_17_x86_64.whl.metadata (1.5 kB)\n",
      "Collecting nvidia-cusolver-cu12==11.7.1.2 (from torch==2.7.0)\n",
      "  Using cached nvidia_cusolver_cu12-11.7.1.2-py3-none-manylinux2014_x86_64.manylinux_2_17_x86_64.whl.metadata (1.6 kB)\n",
      "Collecting nvidia-cusparse-cu12==12.5.4.2 (from torch==2.7.0)\n",
      "  Using cached nvidia_cusparse_cu12-12.5.4.2-py3-none-manylinux2014_x86_64.manylinux_2_17_x86_64.whl.metadata (1.6 kB)\n",
      "Collecting nvidia-cusparselt-cu12==0.6.3 (from torch==2.7.0)\n",
      "  Using cached nvidia_cusparselt_cu12-0.6.3-py3-none-manylinux2014_x86_64.whl.metadata (6.8 kB)\n",
      "Collecting nvidia-nccl-cu12==2.26.2 (from torch==2.7.0)\n",
      "  Using cached nvidia_nccl_cu12-2.26.2-py3-none-manylinux2014_x86_64.manylinux_2_17_x86_64.whl.metadata (2.0 kB)\n",
      "Collecting nvidia-nvtx-cu12==12.6.77 (from torch==2.7.0)\n",
      "  Using cached nvidia_nvtx_cu12-12.6.77-py3-none-manylinux2014_x86_64.manylinux_2_17_x86_64.whl.metadata (1.6 kB)\n",
      "Collecting nvidia-nvjitlink-cu12==12.6.85 (from torch==2.7.0)\n",
      "  Using cached nvidia_nvjitlink_cu12-12.6.85-py3-none-manylinux2010_x86_64.manylinux_2_12_x86_64.whl.metadata (1.5 kB)\n",
      "Collecting nvidia-cufile-cu12==1.11.1.6 (from torch==2.7.0)\n",
      "  Using cached nvidia_cufile_cu12-1.11.1.6-py3-none-manylinux2014_x86_64.manylinux_2_17_x86_64.whl.metadata (1.5 kB)\n",
      "Collecting triton==3.3.0 (from torch==2.7.0)\n",
      "  Using cached triton-3.3.0-cp313-cp313-manylinux_2_27_x86_64.manylinux_2_28_x86_64.whl.metadata (1.5 kB)\n",
      "Collecting pymilvus.model>=0.3.0 (from pymilvus[model]==2.5.10)\n",
      "  Using cached pymilvus_model-0.3.2-py3-none-any.whl.metadata (2.0 kB)\n",
      "Requirement already satisfied: httpcore==1.* in /root/miniconda3/envs/deepseek/lib/python3.13/site-packages (from httpx<1,>=0.23.0->openai==1.82.0) (1.0.9)\n",
      "Requirement already satisfied: h11>=0.16 in /root/miniconda3/envs/deepseek/lib/python3.13/site-packages (from httpcore==1.*->httpx<1,>=0.23.0->openai==1.82.0) (0.16.0)\n",
      "Requirement already satisfied: annotated-types>=0.6.0 in /root/miniconda3/envs/deepseek/lib/python3.13/site-packages (from pydantic<3,>=1.9.0->openai==1.82.0) (0.7.0)\n",
      "Requirement already satisfied: pydantic-core==2.33.2 in /root/miniconda3/envs/deepseek/lib/python3.13/site-packages (from pydantic<3,>=1.9.0->openai==1.82.0) (2.33.2)\n",
      "Requirement already satisfied: typing-inspection>=0.4.0 in /root/miniconda3/envs/deepseek/lib/python3.13/site-packages (from pydantic<3,>=1.9.0->openai==1.82.0) (0.4.1)\n",
      "Collecting numpy>=1.26.0 (from pandas>=1.2.4->pymilvus==2.5.10->pymilvus[model]==2.5.10)\n",
      "  Using cached numpy-2.3.1-cp313-cp313-manylinux_2_28_x86_64.whl.metadata (62 kB)\n",
      "Requirement already satisfied: python-dateutil>=2.8.2 in /root/miniconda3/envs/deepseek/lib/python3.13/site-packages (from pandas>=1.2.4->pymilvus==2.5.10->pymilvus[model]==2.5.10) (2.9.0.post0)\n",
      "Requirement already satisfied: pytz>=2020.1 in /root/miniconda3/envs/deepseek/lib/python3.13/site-packages (from pandas>=1.2.4->pymilvus==2.5.10->pymilvus[model]==2.5.10) (2025.2)\n",
      "Collecting tzdata>=2022.7 (from pandas>=1.2.4->pymilvus==2.5.10->pymilvus[model]==2.5.10)\n",
      "  Using cached tzdata-2025.2-py2.py3-none-any.whl.metadata (1.4 kB)\n",
      "Collecting transformers>=4.36.0 (from pymilvus.model>=0.3.0->pymilvus[model]==2.5.10)\n",
      "  Using cached transformers-4.53.2-py3-none-any.whl.metadata (40 kB)\n",
      "Collecting onnxruntime (from pymilvus.model>=0.3.0->pymilvus[model]==2.5.10)\n",
      "  Using cached onnxruntime-1.22.1-cp313-cp313-manylinux_2_27_x86_64.manylinux_2_28_x86_64.whl.metadata (4.9 kB)\n",
      "Collecting scipy>=1.10.0 (from pymilvus.model>=0.3.0->pymilvus[model]==2.5.10)\n",
      "  Using cached scipy-1.16.0-cp313-cp313-manylinux2014_x86_64.manylinux_2_17_x86_64.whl.metadata (61 kB)\n",
      "Requirement already satisfied: six>=1.5 in /root/miniconda3/envs/deepseek/lib/python3.13/site-packages (from python-dateutil>=2.8.2->pandas>=1.2.4->pymilvus==2.5.10->pymilvus[model]==2.5.10) (1.17.0)\n",
      "Collecting mpmath<1.4,>=1.1.0 (from sympy>=1.13.3->torch==2.7.0)\n",
      "  Using cached mpmath-1.3.0-py3-none-any.whl.metadata (8.6 kB)\n",
      "Collecting huggingface-hub<1.0,>=0.30.0 (from transformers>=4.36.0->pymilvus.model>=0.3.0->pymilvus[model]==2.5.10)\n",
      "  Using cached huggingface_hub-0.33.4-py3-none-any.whl.metadata (14 kB)\n",
      "Requirement already satisfied: packaging>=20.0 in /root/miniconda3/envs/deepseek/lib/python3.13/site-packages (from transformers>=4.36.0->pymilvus.model>=0.3.0->pymilvus[model]==2.5.10) (25.0)\n",
      "Requirement already satisfied: pyyaml>=5.1 in /root/miniconda3/envs/deepseek/lib/python3.13/site-packages (from transformers>=4.36.0->pymilvus.model>=0.3.0->pymilvus[model]==2.5.10) (6.0.2)\n",
      "Collecting regex!=2019.12.17 (from transformers>=4.36.0->pymilvus.model>=0.3.0->pymilvus[model]==2.5.10)\n",
      "  Using cached regex-2024.11.6-cp313-cp313-manylinux_2_17_x86_64.manylinux2014_x86_64.whl.metadata (40 kB)\n",
      "Collecting tokenizers<0.22,>=0.21 (from transformers>=4.36.0->pymilvus.model>=0.3.0->pymilvus[model]==2.5.10)\n",
      "  Using cached tokenizers-0.21.2-cp39-abi3-manylinux_2_17_x86_64.manylinux2014_x86_64.whl.metadata (6.8 kB)\n",
      "Collecting safetensors>=0.4.3 (from transformers>=4.36.0->pymilvus.model>=0.3.0->pymilvus[model]==2.5.10)\n",
      "  Using cached safetensors-0.5.3-cp38-abi3-manylinux_2_17_x86_64.manylinux2014_x86_64.whl.metadata (3.8 kB)\n",
      "Collecting hf-xet<2.0.0,>=1.1.2 (from huggingface-hub<1.0,>=0.30.0->transformers>=4.36.0->pymilvus.model>=0.3.0->pymilvus[model]==2.5.10)\n",
      "  Using cached hf_xet-1.1.5-cp37-abi3-manylinux_2_17_x86_64.manylinux2014_x86_64.whl.metadata (879 bytes)\n",
      "Requirement already satisfied: MarkupSafe>=2.0 in /root/miniconda3/envs/deepseek/lib/python3.13/site-packages (from jinja2->torch==2.7.0) (3.0.2)\n",
      "Collecting coloredlogs (from onnxruntime->pymilvus.model>=0.3.0->pymilvus[model]==2.5.10)\n",
      "  Using cached coloredlogs-15.0.1-py2.py3-none-any.whl.metadata (12 kB)\n",
      "Collecting flatbuffers (from onnxruntime->pymilvus.model>=0.3.0->pymilvus[model]==2.5.10)\n",
      "  Using cached flatbuffers-25.2.10-py2.py3-none-any.whl.metadata (875 bytes)\n",
      "Collecting humanfriendly>=9.1 (from coloredlogs->onnxruntime->pymilvus.model>=0.3.0->pymilvus[model]==2.5.10)\n",
      "  Using cached humanfriendly-10.0-py2.py3-none-any.whl.metadata (9.2 kB)\n",
      "Using cached pymilvus-2.5.10-py3-none-any.whl (227 kB)\n",
      "Using cached requests-2.32.3-py3-none-any.whl (64 kB)\n",
      "\u001b[33mWARNING: Retrying (Retry(total=4, connect=None, read=None, redirect=None, status=None)) after connection broken by 'SSLError(SSLEOFError(8, '[SSL: UNEXPECTED_EOF_WHILE_READING] EOF occurred in violation of protocol (_ssl.c:1028)'))': /packages/4b/27/285a8cf12bd7cd71f9f211a968516b07dcffed3ef0be585c6e823675ab91/torch-2.7.0-cp313-cp313-manylinux_2_28_x86_64.whl\u001b[0m\u001b[33m\n",
      "\u001b[0m\u001b[33mWARNING: Retrying (Retry(total=3, connect=None, read=None, redirect=None, status=None)) after connection broken by 'SSLError(SSLEOFError(8, '[SSL: UNEXPECTED_EOF_WHILE_READING] EOF occurred in violation of protocol (_ssl.c:1028)'))': /packages/4b/27/285a8cf12bd7cd71f9f211a968516b07dcffed3ef0be585c6e823675ab91/torch-2.7.0-cp313-cp313-manylinux_2_28_x86_64.whl\u001b[0m\u001b[33m\n",
      "\u001b[0mDownloading torch-2.7.0-cp313-cp313-manylinux_2_28_x86_64.whl (865.0 MB)\n",
      "\u001b[2K   \u001b[38;2;114;156;31m━━━━━━━━━━━━━━━━━━━━━━━━━━━━━━━━━━━━━━━━\u001b[0m \u001b[32m865.0/865.0 MB\u001b[0m \u001b[31m10.5 MB/s\u001b[0m eta \u001b[36m0:00:00\u001b[0mm eta \u001b[36m0:00:01\u001b[0m[36m0:00:03\u001b[0m\n",
      "\u001b[?25hUsing cached nvidia_cublas_cu12-12.6.4.1-py3-none-manylinux2014_x86_64.manylinux_2_17_x86_64.whl (393.1 MB)\n",
      "Using cached nvidia_cuda_cupti_cu12-12.6.80-py3-none-manylinux2014_x86_64.manylinux_2_17_x86_64.whl (8.9 MB)\n",
      "Using cached nvidia_cuda_nvrtc_cu12-12.6.77-py3-none-manylinux2014_x86_64.whl (23.7 MB)\n",
      "Using cached nvidia_cuda_runtime_cu12-12.6.77-py3-none-manylinux2014_x86_64.manylinux_2_17_x86_64.whl (897 kB)\n",
      "Using cached nvidia_cudnn_cu12-9.5.1.17-py3-none-manylinux_2_28_x86_64.whl (571.0 MB)\n",
      "Using cached nvidia_cufft_cu12-11.3.0.4-py3-none-manylinux2014_x86_64.manylinux_2_17_x86_64.whl (200.2 MB)\n",
      "Using cached nvidia_cufile_cu12-1.11.1.6-py3-none-manylinux2014_x86_64.manylinux_2_17_x86_64.whl (1.1 MB)\n",
      "Using cached nvidia_curand_cu12-10.3.7.77-py3-none-manylinux2014_x86_64.manylinux_2_17_x86_64.whl (56.3 MB)\n",
      "Using cached nvidia_cusolver_cu12-11.7.1.2-py3-none-manylinux2014_x86_64.manylinux_2_17_x86_64.whl (158.2 MB)\n",
      "Using cached nvidia_cusparse_cu12-12.5.4.2-py3-none-manylinux2014_x86_64.manylinux_2_17_x86_64.whl (216.6 MB)\n",
      "Using cached nvidia_cusparselt_cu12-0.6.3-py3-none-manylinux2014_x86_64.whl (156.8 MB)\n",
      "Using cached nvidia_nccl_cu12-2.26.2-py3-none-manylinux2014_x86_64.manylinux_2_17_x86_64.whl (201.3 MB)\n",
      "Using cached nvidia_nvjitlink_cu12-12.6.85-py3-none-manylinux2010_x86_64.manylinux_2_12_x86_64.whl (19.7 MB)\n",
      "Using cached nvidia_nvtx_cu12-12.6.77-py3-none-manylinux2014_x86_64.manylinux_2_17_x86_64.whl (89 kB)\n",
      "Downloading triton-3.3.0-cp313-cp313-manylinux_2_27_x86_64.manylinux_2_28_x86_64.whl (156.5 MB)\n",
      "\u001b[2K   \u001b[38;2;114;156;31m━━━━━━━━━━━━━━━━━━━━━━━━━━━━━━━━━━━━━━━━\u001b[0m \u001b[32m156.5/156.5 MB\u001b[0m \u001b[31m6.3 MB/s\u001b[0m eta \u001b[36m0:00:00\u001b[0mm eta \u001b[36m0:00:01\u001b[0m[36m0:00:01\u001b[0m\n",
      "\u001b[?25hDownloading grpcio-1.67.1-cp313-cp313-manylinux_2_17_x86_64.manylinux2014_x86_64.whl (5.9 MB)\n",
      "\u001b[2K   \u001b[38;2;114;156;31m━━━━━━━━━━━━━━━━━━━━━━━━━━━━━━━━━━━━━━━━\u001b[0m \u001b[32m5.9/5.9 MB\u001b[0m \u001b[31m6.7 MB/s\u001b[0m eta \u001b[36m0:00:00\u001b[0m[31m7.2 MB/s\u001b[0m eta \u001b[36m0:00:01\u001b[0m\n",
      "\u001b[?25hDownloading python_dotenv-1.1.1-py3-none-any.whl (20 kB)\n",
      "Downloading milvus_lite-2.5.1-py3-none-manylinux2014_x86_64.whl (55.3 MB)\n",
      "\u001b[2K   \u001b[38;2;114;156;31m━━━━━━━━━━━━━━━━━━━━━━━━━━━━━━━━━━━━━━━━\u001b[0m \u001b[32m55.3/55.3 MB\u001b[0m \u001b[31m11.4 MB/s\u001b[0m eta \u001b[36m0:00:00\u001b[0m[36m0:00:01\u001b[0mm eta \u001b[36m0:00:01\u001b[0m\n",
      "\u001b[?25hDownloading pandas-2.3.1-cp313-cp313-manylinux_2_17_x86_64.manylinux2014_x86_64.whl (12.1 MB)\n",
      "\u001b[2K   \u001b[38;2;114;156;31m━━━━━━━━━━━━━━━━━━━━━━━━━━━━━━━━━━━━━━━━\u001b[0m \u001b[32m12.1/12.1 MB\u001b[0m \u001b[31m11.4 MB/s\u001b[0m eta \u001b[36m0:00:00\u001b[0m31m12.1 MB/s\u001b[0m eta \u001b[36m0:00:01\u001b[0m\n",
      "\u001b[?25hDownloading numpy-2.3.1-cp313-cp313-manylinux_2_28_x86_64.whl (16.6 MB)\n",
      "\u001b[2K   \u001b[38;2;114;156;31m━━━━━━━━━━━━━━━━━━━━━━━━━━━━━━━━━━━━━━━━\u001b[0m \u001b[32m16.6/16.6 MB\u001b[0m \u001b[31m10.0 MB/s\u001b[0m eta \u001b[36m0:00:00\u001b[0mm eta \u001b[36m0:00:01\u001b[0m0:01\u001b[0m01\u001b[0m\n",
      "\u001b[?25hUsing cached protobuf-6.31.1-cp39-abi3-manylinux2014_x86_64.whl (321 kB)\n",
      "Using cached pymilvus_model-0.3.2-py3-none-any.whl (47 kB)\n",
      "Downloading scipy-1.16.0-cp313-cp313-manylinux2014_x86_64.manylinux_2_17_x86_64.whl (35.1 MB)\n",
      "\u001b[2K   \u001b[38;2;114;156;31m━━━━━━━━━━━━━━━━━━━━━━━━━━━━━━━━━━━━━━━━\u001b[0m \u001b[32m35.1/35.1 MB\u001b[0m \u001b[31m11.2 MB/s\u001b[0m eta \u001b[36m0:00:00\u001b[0m[36m0:00:01\u001b[0m[36m0:00:01\u001b[0m:02\u001b[0m\n",
      "\u001b[?25hUsing cached sympy-1.14.0-py3-none-any.whl (6.3 MB)\n",
      "Using cached mpmath-1.3.0-py3-none-any.whl (536 kB)\n",
      "Downloading transformers-4.53.2-py3-none-any.whl (10.8 MB)\n",
      "\u001b[2K   \u001b[38;2;114;156;31m━━━━━━━━━━━━━━━━━━━━━━━━━━━━━━━━━━━━━━━━\u001b[0m \u001b[32m10.8/10.8 MB\u001b[0m \u001b[31m11.0 MB/s\u001b[0m eta \u001b[36m0:00:00\u001b[0m31m12.2 MB/s\u001b[0m eta \u001b[36m0:00:01\u001b[0m\n",
      "\u001b[?25hDownloading huggingface_hub-0.33.4-py3-none-any.whl (515 kB)\n",
      "Downloading hf_xet-1.1.5-cp37-abi3-manylinux_2_17_x86_64.manylinux2014_x86_64.whl (3.1 MB)\n",
      "\u001b[2K   \u001b[38;2;114;156;31m━━━━━━━━━━━━━━━━━━━━━━━━━━━━━━━━━━━━━━━━\u001b[0m \u001b[32m3.1/3.1 MB\u001b[0m \u001b[31m7.9 MB/s\u001b[0m eta \u001b[36m0:00:00\u001b[0m MB/s\u001b[0m eta \u001b[36m0:00:01\u001b[0mm\n",
      "\u001b[?25hDownloading tokenizers-0.21.2-cp39-abi3-manylinux_2_17_x86_64.manylinux2014_x86_64.whl (3.1 MB)\n",
      "\u001b[2K   \u001b[38;2;114;156;31m━━━━━━━━━━━━━━━━━━━━━━━━━━━━━━━━━━━━━━━━\u001b[0m \u001b[32m3.1/3.1 MB\u001b[0m \u001b[31m13.5 MB/s\u001b[0m eta \u001b[36m0:00:00\u001b[0m31m11.2 MB/s\u001b[0m eta \u001b[36m0:00:01\u001b[0m\n",
      "\u001b[?25hDownloading fsspec-2025.7.0-py3-none-any.whl (199 kB)\n",
      "Downloading regex-2024.11.6-cp313-cp313-manylinux_2_17_x86_64.manylinux2014_x86_64.whl (796 kB)\n",
      "\u001b[2K   \u001b[38;2;114;156;31m━━━━━━━━━━━━━━━━━━━━━━━━━━━━━━━━━━━━━━━━\u001b[0m \u001b[32m796.9/796.9 kB\u001b[0m \u001b[31m35.4 MB/s\u001b[0m eta \u001b[36m0:00:00\u001b[0m\n",
      "\u001b[?25hUsing cached safetensors-0.5.3-cp38-abi3-manylinux_2_17_x86_64.manylinux2014_x86_64.whl (471 kB)\n",
      "Using cached tzdata-2025.2-py2.py3-none-any.whl (347 kB)\n",
      "Downloading ujson-5.10.0-cp313-cp313-manylinux_2_17_x86_64.manylinux2014_x86_64.whl (53 kB)\n",
      "Using cached filelock-3.18.0-py3-none-any.whl (16 kB)\n",
      "Downloading networkx-3.5-py3-none-any.whl (2.0 MB)\n",
      "\u001b[2K   \u001b[38;2;114;156;31m━━━━━━━━━━━━━━━━━━━━━━━━━━━━━━━━━━━━━━━━\u001b[0m \u001b[32m2.0/2.0 MB\u001b[0m \u001b[31m5.8 MB/s\u001b[0m eta \u001b[36m0:00:00\u001b[0m[31m10.0 MB/s\u001b[0m eta \u001b[36m0:00:01\u001b[0m\n",
      "\u001b[?25hDownloading onnxruntime-1.22.1-cp313-cp313-manylinux_2_27_x86_64.manylinux_2_28_x86_64.whl (16.5 MB)\n",
      "\u001b[2K   \u001b[38;2;114;156;31m━━━━━━━━━━━━━━━━━━━━━━━━━━━━━━━━━━━━━━━━\u001b[0m \u001b[32m16.5/16.5 MB\u001b[0m \u001b[31m10.9 MB/s\u001b[0m eta \u001b[36m0:00:00\u001b[0m MB/s\u001b[0m eta \u001b[36m0:00:01\u001b[0m:01\u001b[0m\n",
      "\u001b[?25hUsing cached coloredlogs-15.0.1-py2.py3-none-any.whl (46 kB)\n",
      "Using cached humanfriendly-10.0-py2.py3-none-any.whl (86 kB)\n",
      "Using cached flatbuffers-25.2.10-py2.py3-none-any.whl (30 kB)\n",
      "Installing collected packages: nvidia-cusparselt-cu12, mpmath, flatbuffers, ujson, tzdata, triton, sympy, safetensors, requests, regex, python-dotenv, protobuf, nvidia-nvtx-cu12, nvidia-nvjitlink-cu12, nvidia-nccl-cu12, nvidia-curand-cu12, nvidia-cufile-cu12, nvidia-cuda-runtime-cu12, nvidia-cuda-nvrtc-cu12, nvidia-cuda-cupti-cu12, nvidia-cublas-cu12, numpy, networkx, milvus-lite, humanfriendly, hf-xet, grpcio, fsspec, filelock, scipy, pandas, nvidia-cusparse-cu12, nvidia-cufft-cu12, nvidia-cudnn-cu12, huggingface-hub, coloredlogs, tokenizers, pymilvus, onnxruntime, nvidia-cusolver-cu12, transformers, torch, pymilvus.model\n",
      "\u001b[2K  Attempting uninstall: requests38;2;249;38;114m╸\u001b[0m\u001b[38;5;237m━━━━━━━━━━━━━━━━━━━━━━━━━━━━━━━━━━\u001b[0m \u001b[32m 6/43\u001b[0m [sympy]]\n",
      "\u001b[2K    Found existing installation: requests 2.32.4m\u001b[38;5;237m━━━━━━━━━━━━━━━━━━━━━━━━━━━━━━━━━━\u001b[0m \u001b[32m 6/43\u001b[0m [sympy]\n",
      "\u001b[2K    Uninstalling requests-2.32.4:[38;5;237m╺\u001b[0m\u001b[38;5;237m━━━━━━━━━━━━━━━━━━━━━━━━━━━━━━━━\u001b[0m \u001b[32m 8/43\u001b[0m [requests]\n",
      "\u001b[2K      Successfully uninstalled requests-2.32.438;5;237m━━━━━━━━━━━━━━━━━━━━━━━━━━━━━━━━\u001b[0m \u001b[32m 8/43\u001b[0m [requests]\n",
      "\u001b[2K   \u001b[38;2;114;156;31m━━━━━━━━━━━━━━━━━━━━━━━━━━━━━━━━━━━━━━━━\u001b[0m \u001b[32m43/43\u001b[0m [pymilvus.model][32m41/43\u001b[0m [torch]ormers]er-cu12]b]2]12]2]\n",
      "\u001b[1A\u001b[2KSuccessfully installed coloredlogs-15.0.1 filelock-3.18.0 flatbuffers-25.2.10 fsspec-2025.7.0 grpcio-1.67.1 hf-xet-1.1.5 huggingface-hub-0.33.4 humanfriendly-10.0 milvus-lite-2.5.1 mpmath-1.3.0 networkx-3.5 numpy-2.3.1 nvidia-cublas-cu12-12.6.4.1 nvidia-cuda-cupti-cu12-12.6.80 nvidia-cuda-nvrtc-cu12-12.6.77 nvidia-cuda-runtime-cu12-12.6.77 nvidia-cudnn-cu12-9.5.1.17 nvidia-cufft-cu12-11.3.0.4 nvidia-cufile-cu12-1.11.1.6 nvidia-curand-cu12-10.3.7.77 nvidia-cusolver-cu12-11.7.1.2 nvidia-cusparse-cu12-12.5.4.2 nvidia-cusparselt-cu12-0.6.3 nvidia-nccl-cu12-2.26.2 nvidia-nvjitlink-cu12-12.6.85 nvidia-nvtx-cu12-12.6.77 onnxruntime-1.22.1 pandas-2.3.1 protobuf-6.31.1 pymilvus-2.5.10 pymilvus.model-0.3.2 python-dotenv-1.1.1 regex-2024.11.6 requests-2.32.3 safetensors-0.5.3 scipy-1.16.0 sympy-1.14.0 tokenizers-0.21.2 torch-2.7.0 transformers-4.53.2 triton-3.3.0 tzdata-2025.2 ujson-5.10.0\n",
      "\u001b[33mWARNING: Running pip as the 'root' user can result in broken permissions and conflicting behaviour with the system package manager, possibly rendering your system unusable. It is recommended to use a virtual environment instead: https://pip.pypa.io/warnings/venv. Use the --root-user-action option if you know what you are doing and want to suppress this warning.\u001b[0m\u001b[33m\n",
      "\u001b[0m"
     ]
    }
   ],
   "source": [
    "!pip install \"pymilvus[model]==2.5.10\" openai==1.82.0 requests==2.32.3 tqdm==4.67.1 torch==2.7.0"
   ]
  },
  {
   "cell_type": "markdown",
   "id": "1b3c0999-d670-41a9-afbd-d8a020fe1631",
   "metadata": {},
   "source": [
    "---"
   ]
  },
  {
   "cell_type": "code",
   "execution_count": 2,
   "id": "375ad823",
   "metadata": {},
   "outputs": [],
   "source": [
    "import os\n",
    "\n",
    "# 从环境变量获取 DeepSeek API Key\n",
    "api_key = os.getenv(\"DEEPSEEK_API_KEY\")"
   ]
  },
  {
   "cell_type": "markdown",
   "id": "db44bb26",
   "metadata": {},
   "source": [
    "### 准备数据"
   ]
  },
  {
   "cell_type": "markdown",
   "id": "25f92a95",
   "metadata": {},
   "source": [
    "我们使用 Milvus 文档 2.4.x 中的 FAQ 页面作为我们 RAG 中的私有知识库，这是一个简单 RAG 管道的良好数据源。"
   ]
  },
  {
   "cell_type": "markdown",
   "id": "a1a8b9e2",
   "metadata": {},
   "source": [
    "下载 zip 文件并将文档解压到 `milvus_docs` 文件夹。\n",
    "\n",
    "**建议在命令行执行下面命令**"
   ]
  },
  {
   "cell_type": "code",
   "execution_count": 18,
   "id": "a81fa031",
   "metadata": {},
   "outputs": [],
   "source": [
    "#!wget https://github.com/milvus-io/milvus-docs/releases/download/v2.4.6-preview/milvus_docs_2.4.x_en.zip\n",
    "#!unzip -q milvus_docs_2.4.x_en.zip -d milvus_docs"
   ]
  },
  {
   "cell_type": "markdown",
   "id": "d1198466",
   "metadata": {},
   "source": [
    "我们从 `milvus_docs/en/faq` 文件夹加载所有 markdown 文件。对于每个文档，我们简单地使用 \"# \" 来分割文件中的内容，这样可以大致分离出 markdown 文件中每个主要部分的内容。"
   ]
  },
  {
   "cell_type": "code",
   "execution_count": 3,
   "id": "c9035a5f",
   "metadata": {},
   "outputs": [],
   "source": [
    "from glob import glob\n",
    "\n",
    "text_lines = []\n",
    "\n",
    "for file_path in glob(\"milvus_docs/en/faq/*.md\", recursive=True):\n",
    "    with open(file_path, \"r\") as file:\n",
    "        file_text = file.read()\n",
    "\n",
    "    text_lines += file_text.split(\"# \")"
   ]
  },
  {
   "cell_type": "code",
   "execution_count": 4,
   "id": "01b73e74-ee7d-4daf-b7db-1c7a10bfc0bf",
   "metadata": {},
   "outputs": [
    {
     "data": {
      "text/plain": [
       "72"
      ]
     },
     "execution_count": 4,
     "metadata": {},
     "output_type": "execute_result"
    }
   ],
   "source": [
    "len(text_lines)"
   ]
  },
  {
   "cell_type": "code",
   "execution_count": 7,
   "id": "1f257a9a-3876-4629-aa96-c1c4d9f7190c",
   "metadata": {},
   "outputs": [
    {
     "name": "stdout",
     "output_type": "stream",
     "text": [
      "['---\\nid: operational_faq.md\\nsummary: Find answers to commonly asked questions about operations in Milvus.\\ntitle: Operational FAQ\\n---\\n\\n', 'Operational FAQ\\n\\n<!-- TOC -->\\n\\n\\n<!-- /TOC -->\\n\\n###']\n"
     ]
    }
   ],
   "source": [
    "print(text_lines[0:2])"
   ]
  },
  {
   "cell_type": "markdown",
   "id": "4cc2a0b8",
   "metadata": {},
   "source": [
    "### 准备 LLM 和 Embedding 模型"
   ]
  },
  {
   "cell_type": "markdown",
   "id": "19eaff7a",
   "metadata": {},
   "source": [
    "DeepSeek 支持 OpenAI 风格的 API，您可以使用相同的 API 进行微小调整来调用 LLM。"
   ]
  },
  {
   "cell_type": "code",
   "execution_count": 8,
   "id": "b994eb47",
   "metadata": {},
   "outputs": [],
   "source": [
    "from openai import OpenAI\n",
    "\n",
    "deepseek_client = OpenAI(\n",
    "    api_key=api_key,\n",
    "    base_url=\"https://api.deepseek.com/v1\",  # DeepSeek API 的基地址\n",
    ")"
   ]
  },
  {
   "cell_type": "markdown",
   "id": "1cc5a5e2",
   "metadata": {},
   "source": [
    "定义一个 embedding 模型，使用 `milvus_model` 来生成文本嵌入。我们以 `DefaultEmbeddingFunction` 模型为例，这是一个预训练的轻量级嵌入模型。"
   ]
  },
  {
   "cell_type": "code",
   "execution_count": 9,
   "id": "3a94242a",
   "metadata": {},
   "outputs": [
    {
     "name": "stderr",
     "output_type": "stream",
     "text": [
      "/root/miniconda3/envs/deepseek/lib/python3.13/site-packages/tqdm/auto.py:21: TqdmWarning: IProgress not found. Please update jupyter and ipywidgets. See https://ipywidgets.readthedocs.io/en/stable/user_install.html\n",
      "  from .autonotebook import tqdm as notebook_tqdm\n"
     ]
    }
   ],
   "source": [
    "from pymilvus import model as milvus_model\n",
    "\n",
    "embedding_model = milvus_model.DefaultEmbeddingFunction()"
   ]
  },
  {
   "cell_type": "code",
   "execution_count": 10,
   "id": "9bc4c53d-bf3b-48a9-94e0-bfc5b668ad2f",
   "metadata": {},
   "outputs": [
    {
     "name": "stdout",
     "output_type": "stream",
     "text": [
      "Retrieving notices: done\n",
      "Channels:\n",
      " - conda-forge\n",
      " - defaults\n",
      "Platform: linux-64\n",
      "Collecting package metadata (repodata.json): done\n",
      "Solving environment: done\n",
      "\n",
      "## Package Plan ##\n",
      "\n",
      "  environment location: /root/miniconda3/envs/deepseek\n",
      "\n",
      "  added / updated specs:\n",
      "    - ipywidgets\n",
      "\n",
      "\n",
      "The following packages will be downloaded:\n",
      "\n",
      "    package                    |            build\n",
      "    ---------------------------|-----------------\n",
      "    ipywidgets-8.1.7           |     pyhd8ed1ab_0         112 KB  conda-forge\n",
      "    jupyterlab_widgets-3.0.15  |     pyhd8ed1ab_0         185 KB  conda-forge\n",
      "    widgetsnbextension-4.0.14  |     pyhd8ed1ab_0         868 KB  conda-forge\n",
      "    ------------------------------------------------------------\n",
      "                                           Total:         1.1 MB\n",
      "\n",
      "The following NEW packages will be INSTALLED:\n",
      "\n",
      "  ipywidgets         conda-forge/noarch::ipywidgets-8.1.7-pyhd8ed1ab_0 \n",
      "  jupyterlab_widgets conda-forge/noarch::jupyterlab_widgets-3.0.15-pyhd8ed1ab_0 \n",
      "  widgetsnbextension conda-forge/noarch::widgetsnbextension-4.0.14-pyhd8ed1ab_0 \n",
      "\n",
      "\n",
      "\n",
      "Downloading and Extracting Packages:\n",
      "widgetsnbextension-4 | 868 KB    |                                       |   0% \n",
      "jupyterlab_widgets-3 | 185 KB    |                                       |   0% \u001b[A\n",
      "\n",
      "widgetsnbextension-4 | 868 KB    | 6                                     |   2% \u001b[A\u001b[A\n",
      "\n",
      "widgetsnbextension-4 | 868 KB    | ####                                  |  11% \u001b[A\u001b[A\n",
      "\n",
      "ipywidgets-8.1.7     | 112 KB    | ###############################7      |  86% \u001b[A\u001b[A\n",
      "\n",
      "ipywidgets-8.1.7     | 112 KB    | ##################################### | 100% \u001b[A\u001b[A\n",
      "\n",
      "widgetsnbextension-4 | 868 KB    | ##################################### | 100% \u001b[A\u001b[A\n",
      "jupyterlab_widgets-3 | 185 KB    | ###2                                  |   9% \u001b[A\n",
      "jupyterlab_widgets-3 | 185 KB    | #########6                            |  26% \u001b[A\n",
      "jupyterlab_widgets-3 | 185 KB    | ############################8         |  78% \u001b[A\n",
      "jupyterlab_widgets-3 | 185 KB    | ##################################### | 100% \u001b[A\n",
      "                                                                                \u001b[A\n",
      "                                                                                \u001b[A\n",
      "\n",
      "                                                                                \u001b[A\u001b[A\n",
      "Preparing transaction: done\n",
      "Verifying transaction: done\n",
      "Executing transaction: done\n",
      "\n",
      "Note: you may need to restart the kernel to use updated packages.\n"
     ]
    }
   ],
   "source": [
    "conda install -c conda-forge ipywidgets"
   ]
  },
  {
   "cell_type": "markdown",
   "id": "93fb1696",
   "metadata": {},
   "source": [
    "生成一个测试嵌入并打印其维度和前几个元素。"
   ]
  },
  {
   "cell_type": "code",
   "execution_count": 12,
   "id": "88a27567",
   "metadata": {},
   "outputs": [
    {
     "name": "stdout",
     "output_type": "stream",
     "text": [
      "768\n",
      "[-0.04836059  0.07163021 -0.01130063 -0.03789341 -0.03320651 -0.01318453\n",
      " -0.03041721 -0.02269495 -0.02317858 -0.00426026]\n"
     ]
    }
   ],
   "source": [
    "embeddings = embedding_model.encode_queries([\"This is a test\"])\n",
    "test_embedding = embeddings[0]\n",
    "embedding_dim = len(test_embedding)\n",
    "print(embedding_dim)\n",
    "print(test_embedding[:10])"
   ]
  },
  {
   "cell_type": "code",
   "execution_count": 13,
   "id": "e3c2bf39-cdbf-441f-ace2-333362348a08",
   "metadata": {
    "scrolled": true
   },
   "outputs": [
    {
     "data": {
      "text/plain": [
       "[array([-4.83605895e-02,  7.16302068e-02, -1.13006318e-02, -3.78934066e-02,\n",
       "        -3.32065074e-02, -1.31845335e-02, -3.04172120e-02, -2.26949540e-02,\n",
       "        -2.31785754e-02, -4.26026396e-03, -3.54611895e-02,  8.24017604e-02,\n",
       "         9.60732480e-03, -9.35162364e-02,  1.43302474e-02, -3.56377009e-02,\n",
       "        -2.11116488e-02, -7.14695972e-03,  1.31676227e-02,  4.86511475e-02,\n",
       "        -3.50727951e-02,  3.58038423e-02,  2.26721731e-02, -2.50324471e-02,\n",
       "         1.46178770e-02,  1.17226431e-02,  1.61201405e-03,  1.09445343e-02,\n",
       "        -1.96198130e-02,  7.58577481e-02, -1.17539262e-02, -1.21173816e-02,\n",
       "         1.39661028e-02, -2.31426526e-02, -8.80252196e-02, -1.05829486e-02,\n",
       "        -2.34194133e-02,  4.52733583e-02, -2.16779910e-03,  2.92738220e-02,\n",
       "         5.29296229e-02, -3.52281926e-02,  3.97477326e-02,  2.73346796e-02,\n",
       "        -1.00968965e-01, -4.88895935e-02,  9.81026019e-03, -1.93076430e-03,\n",
       "         1.14953884e-02, -3.69756294e-02, -1.40654635e-02, -4.54195258e-02,\n",
       "         1.69289288e-02,  9.98237073e-03, -2.70835186e-02,  1.18524258e-02,\n",
       "        -2.12954139e-02, -1.97088013e-02, -4.95410594e-02, -4.69450099e-02,\n",
       "         9.52523203e-02, -2.70649242e-02,  5.41255003e-02, -1.72126661e-02,\n",
       "        -1.04480819e-01,  8.53903243e-03, -1.59704699e-02, -4.37368346e-02,\n",
       "        -3.27341535e-02,  2.32420480e-02,  1.75571565e-02,  1.97266508e-02,\n",
       "         7.35149574e-03, -8.55327377e-03, -1.12972898e-02, -1.58695954e-02,\n",
       "         4.74457817e-03,  2.88383212e-02, -2.63442646e-02, -3.46341174e-02,\n",
       "         2.24252400e-02,  1.82711622e-03, -3.44292712e-02,  1.76535771e-02,\n",
       "         2.93337872e-02,  2.49495443e-02, -3.94279054e-02,  1.32850312e-02,\n",
       "        -8.26608082e-03, -5.69050009e-02, -1.38629401e-03, -1.21933943e-02,\n",
       "        -1.14584002e-02,  1.21020239e-02,  2.93908826e-02,  3.52260680e-02,\n",
       "         6.70857360e-02,  1.46609344e-02,  6.51876070e-03,  7.86666165e-02,\n",
       "        -5.39193796e-03, -5.76838659e-02,  5.34320634e-02, -1.55844754e-03,\n",
       "        -5.74686441e-03, -2.16308712e-02, -4.50057824e-03, -1.47042281e-02,\n",
       "        -8.02637534e-03,  4.37058913e-03, -5.52190126e-02, -3.24620801e-02,\n",
       "         1.68916550e-02,  3.76023131e-04,  6.07125294e-02,  6.61031928e-03,\n",
       "        -1.51898562e-02,  1.57244793e-02, -1.10022746e-03, -5.52352924e-02,\n",
       "        -3.03448037e-02,  5.15938743e-02, -4.10640778e-02,  3.85308029e-02,\n",
       "        -1.62008977e-02,  6.67610625e-02, -4.83861861e-03,  2.84256531e-02,\n",
       "        -1.18259016e-02,  4.81057177e-02,  4.57032675e-03,  6.41940515e-02,\n",
       "         3.73727902e-02, -1.04521795e-03,  4.38157935e-03,  4.00334834e-02,\n",
       "         2.21682385e-02, -1.31555546e-02,  1.54708186e-03, -1.38015352e-02,\n",
       "         2.98757474e-02,  8.28543445e-03,  3.69974634e-02, -9.53128522e-03,\n",
       "         5.77765338e-02,  5.41717787e-02, -4.39493516e-02, -1.72234727e-02,\n",
       "        -7.79108988e-02,  4.76133598e-02, -4.02494864e-02, -5.76596702e-02,\n",
       "         4.30798748e-03,  1.24813581e-02, -3.23796029e-03, -1.20848911e-02,\n",
       "        -2.67314240e-02, -8.19087263e-03, -1.62217367e-02,  1.25918506e-02,\n",
       "        -3.76728256e-03,  1.50468745e-02, -6.22550295e-02,  2.53770617e-02,\n",
       "        -1.66454170e-02, -4.70426298e-02, -5.43756792e-02, -6.59388143e-03,\n",
       "        -2.49481943e-02,  8.62819991e-02,  7.53908683e-02,  2.67937867e-02,\n",
       "        -3.96251395e-03,  5.85623234e-02,  1.43320549e-02, -1.14766114e-02,\n",
       "        -4.76858106e-02, -7.07208991e-03, -6.10125409e-02, -2.96141920e-02,\n",
       "         4.23476255e-03,  2.27618668e-02, -1.98204652e-02,  2.37743738e-02,\n",
       "         3.47660603e-02,  4.44827316e-02,  1.36455479e-03,  3.31628028e-02,\n",
       "         2.31562461e-02, -1.89726193e-02,  8.77169687e-03, -3.09261712e-02,\n",
       "         4.21849697e-02,  2.80972330e-02, -1.69969158e-03,  5.25651309e-02,\n",
       "         7.95578991e-03, -7.24100365e-03, -7.12439730e-02,  2.29924073e-02,\n",
       "        -1.03583926e-02,  2.33930354e-02,  2.37267384e-02, -3.51057764e-02,\n",
       "         2.87719767e-02, -3.70033451e-03,  2.79455221e-02, -3.69137047e-02,\n",
       "        -5.45846875e-03,  4.81751400e-02,  3.69002141e-02,  4.34260169e-02,\n",
       "         7.11617365e-02, -2.08477235e-02, -4.88942527e-02,  2.12694680e-02,\n",
       "        -1.24303499e-02, -2.15820825e-02,  7.21525194e-02, -4.01994956e-02,\n",
       "         7.23657079e-03,  5.59977395e-02,  3.22904867e-02, -3.16790606e-02,\n",
       "        -1.71098631e-02, -3.61920948e-02, -2.06487136e-04,  2.12193692e-02,\n",
       "         2.42462673e-02, -7.19974545e-02, -3.16068875e-02,  4.86794497e-02,\n",
       "         6.61737666e-03,  4.26796751e-02,  1.39629631e-02,  7.64595987e-03,\n",
       "        -1.03614698e-02,  1.02840416e-02,  4.07881776e-02,  3.35345403e-02,\n",
       "        -7.30280847e-03, -2.66314583e-02, -3.88638779e-02, -4.15345763e-02,\n",
       "        -2.95500832e-02, -8.24890573e-02,  1.75206408e-02,  4.62846462e-03,\n",
       "         1.79278782e-02,  4.33421836e-02,  1.01288236e-02, -9.48608897e-02,\n",
       "         3.04613400e-02,  2.48858262e-02,  3.55648947e-02, -5.25029335e-02,\n",
       "         1.89621120e-02,  2.18441209e-02,  9.93852542e-03, -6.58192177e-02,\n",
       "         3.94617002e-02, -2.45357248e-04, -9.95724556e-03,  3.98796394e-02,\n",
       "        -1.68352571e-02,  8.91036938e-03, -3.21829344e-02, -1.94790661e-02,\n",
       "        -3.78173470e-02, -2.45668459e-02,  1.72660016e-02,  6.51585958e-03,\n",
       "        -2.76342805e-02,  4.20577524e-02,  3.79610144e-02,  2.08788324e-03,\n",
       "        -4.81981180e-02,  4.72230147e-02,  2.31605221e-02, -7.41615532e-02,\n",
       "        -1.87425737e-02,  1.85602850e-02, -2.56834389e-02,  3.60827707e-02,\n",
       "         1.03858070e-03,  5.92121867e-02, -2.89464048e-02, -2.48683308e-02,\n",
       "        -1.63952634e-02,  1.96196333e-02,  1.05978705e-02,  8.41885515e-03,\n",
       "         3.15158930e-02,  2.88948344e-02, -1.53449600e-02, -2.55115305e-03,\n",
       "        -1.00015682e-02, -1.47336352e-02, -1.02605665e-02,  1.75915717e-02,\n",
       "         4.48285957e-02,  2.33791306e-02,  4.04817743e-02, -3.73819999e-02,\n",
       "        -7.68499651e-04,  1.02636683e-02,  1.92117182e-02, -1.67211503e-03,\n",
       "        -4.30772405e-02,  4.20909839e-03, -1.50153423e-02, -1.74315810e-02,\n",
       "        -6.10720364e-02,  1.07292187e-02, -1.63810940e-02,  8.37760803e-02,\n",
       "         2.33186520e-02,  4.90426990e-03,  3.54929266e-02, -3.97919943e-02,\n",
       "        -2.37094781e-02, -3.48501598e-02,  4.04586992e-02,  2.51813381e-02,\n",
       "         4.55866208e-03,  2.63400134e-02,  3.20997448e-04,  2.12654630e-02,\n",
       "         6.72026079e-02,  2.42682035e-02, -4.21703652e-02, -4.22594840e-02,\n",
       "        -5.79709530e-02,  4.15115660e-02, -2.93563968e-02, -3.24127296e-02,\n",
       "        -8.01555613e-02, -3.82008181e-02,  5.55149948e-02, -1.96858404e-02,\n",
       "         2.29617469e-02, -1.79792249e-02, -3.08357269e-02,  2.50140764e-03,\n",
       "         9.08478394e-02,  8.14064283e-04, -1.16887536e-02, -2.22228364e-02,\n",
       "         3.36272387e-02, -5.00032676e-02, -8.05602955e-03,  2.53873833e-02,\n",
       "         2.41707578e-02, -5.50521954e-02,  7.57598548e-03, -1.18607074e-03,\n",
       "        -2.34685949e-02,  3.30558054e-02, -2.68341240e-03,  4.47559040e-02,\n",
       "        -5.34404136e-02,  8.27105427e-03,  3.45503221e-02, -2.45398164e-03,\n",
       "        -4.95978251e-02,  9.89245776e-03,  8.87857080e-03,  5.85770176e-02,\n",
       "        -6.01380776e-03, -3.47992489e-02, -6.04251582e-02, -2.94644965e-03,\n",
       "        -4.80086927e-02, -3.64477976e-02, -1.95868912e-02, -1.10627429e-02,\n",
       "        -1.67477527e-02, -6.69468367e-02, -5.99954763e-03,  2.95527699e-02,\n",
       "        -2.11779282e-02,  1.53732049e-02,  3.12138121e-02, -2.78835998e-02,\n",
       "        -7.25434966e-02,  7.73488348e-04, -5.86499617e-02,  3.17529611e-02,\n",
       "        -1.85280662e-02,  7.14658231e-03, -3.61199232e-02,  3.70096503e-02,\n",
       "         1.49728908e-03, -3.86653081e-02,  2.11459162e-02,  2.74214141e-02,\n",
       "        -8.41281630e-03,  8.99623965e-02,  1.57047353e-02, -1.02696844e-02,\n",
       "        -6.63377869e-02, -9.29831531e-03,  2.23613797e-02,  1.92272782e-02,\n",
       "         6.01234053e-02, -2.64981623e-02, -7.72012609e-03, -2.56261131e-02,\n",
       "         2.11443437e-02,  5.92116975e-02, -2.66265759e-03, -1.15549917e-02,\n",
       "         1.83201071e-02, -7.13324610e-02, -2.22599497e-02,  1.02437023e-02,\n",
       "         1.74310459e-02, -1.90984490e-02,  1.01235543e-02,  1.57526157e-02,\n",
       "         7.56012031e-02,  4.18974456e-03, -2.00456976e-02,  2.81630162e-02,\n",
       "        -1.12146434e-02,  1.52968206e-02,  6.16809157e-02, -6.58426954e-02,\n",
       "        -3.62395123e-03, -7.10421344e-02,  5.44134828e-03, -4.83340441e-02,\n",
       "        -2.99824060e-02,  1.55683655e-03, -7.02320589e-02, -2.18166129e-02,\n",
       "         2.50120230e-02, -9.06148141e-03,  5.50826051e-02, -8.57572661e-03,\n",
       "         2.52113519e-02,  3.18383921e-02, -5.44244807e-02,  3.60451243e-02,\n",
       "        -3.21235512e-02, -1.21986193e-02, -4.62051949e-02, -7.00358521e-02,\n",
       "         5.22672145e-02,  3.86349668e-02,  1.99803254e-03,  4.17627423e-02,\n",
       "         3.54185639e-02, -4.43459629e-02,  4.95122827e-02, -9.68560363e-03,\n",
       "        -5.43332833e-02, -1.64305326e-02, -1.03400513e-03,  2.45908541e-02,\n",
       "        -9.92070668e-03, -5.78558540e-02, -4.67952927e-02,  5.06759608e-02,\n",
       "        -3.68363748e-02,  9.86245321e-02,  1.44410980e-02,  1.28288752e-02,\n",
       "         7.93703308e-03,  2.08815884e-02, -1.25069829e-02, -2.94026963e-03,\n",
       "         2.84076805e-02,  4.53524329e-02,  4.60950293e-02, -1.26085538e-02,\n",
       "        -2.86932064e-02, -1.40294767e-02,  3.98655097e-02,  2.42784209e-02,\n",
       "        -2.98454278e-03,  2.31465936e-02, -7.53969409e-02,  3.08939172e-02,\n",
       "        -2.39527680e-03, -1.70826819e-02,  3.35120171e-02, -1.34551467e-02,\n",
       "         1.01489936e-03,  3.20036826e-02, -7.14514179e-02,  1.22385776e-02,\n",
       "        -3.30689621e-02,  5.46392953e-02, -5.16777152e-02, -7.26256789e-02,\n",
       "         2.56986997e-02,  1.09125817e-02, -5.52710047e-02,  1.00853785e-01,\n",
       "        -5.00026245e-02,  1.21110965e-02,  2.83986124e-03, -1.06128539e-02,\n",
       "         1.27051234e-02,  8.79962730e-03,  2.39712819e-02,  1.92815038e-02,\n",
       "         2.86653682e-02, -8.12851216e-03,  7.16751150e-03,  7.69670127e-03,\n",
       "        -6.21508226e-03,  1.16881053e-02, -2.08438763e-02, -1.27535068e-02,\n",
       "        -1.33100011e-02,  3.42339950e-02, -2.13125272e-02, -2.14794896e-02,\n",
       "        -2.61798703e-02, -9.87686196e-03, -5.55929089e-02, -3.42634881e-02,\n",
       "         4.31660043e-02, -8.49721696e-03, -4.55649684e-02,  1.77021140e-02,\n",
       "        -5.89485703e-02,  5.34990206e-02, -4.77668550e-02, -1.57094653e-02,\n",
       "         1.01664700e-02,  3.22471533e-02, -2.45774428e-02, -5.94158412e-02,\n",
       "         2.50907111e-02,  5.59129636e-02,  9.22343510e-02, -2.93801868e-02,\n",
       "         7.28029609e-03, -1.82793816e-02,  6.56917916e-02,  1.60285575e-02,\n",
       "        -5.17670883e-02, -2.31497453e-02, -5.02664205e-02,  8.30730714e-02,\n",
       "        -3.77785510e-02,  1.96457015e-02, -3.72211628e-02,  5.42429929e-02,\n",
       "         1.39175347e-02,  4.49098671e-02, -1.20752141e-02, -3.19426316e-02,\n",
       "         2.28985609e-02,  1.15853195e-02, -1.16826466e-02, -1.59326418e-02,\n",
       "         5.89187006e-02,  8.55406673e-03, -4.96373451e-02,  8.25015959e-02,\n",
       "        -9.05087004e-03, -2.61146376e-02,  1.08692959e-02, -3.52148966e-02,\n",
       "         1.32517428e-02,  1.63291747e-03, -9.30678473e-03, -4.63928098e-02,\n",
       "         1.77196194e-02,  3.45029826e-02, -3.25065362e-02, -4.28847404e-02,\n",
       "         1.04215706e-02,  6.29365919e-02, -1.33246823e-02, -2.13075281e-02,\n",
       "        -2.11684702e-02, -5.68418127e-02, -2.08086371e-02,  3.43626854e-02,\n",
       "        -2.25034148e-02, -5.41607703e-02,  2.56286788e-03,  4.86952499e-02,\n",
       "         5.32424842e-02, -1.15234020e-02, -1.02994598e-02,  2.14856435e-02,\n",
       "        -3.64122642e-03,  3.17229098e-02, -8.94011789e-03, -3.97647221e-02,\n",
       "         8.48976417e-02, -1.25955916e-02, -9.19613418e-04, -8.12215002e-03,\n",
       "         9.36681407e-02,  1.08683672e-02,  3.81507304e-02, -3.89960118e-02,\n",
       "        -1.58718864e-03, -5.07336662e-03, -2.75348970e-02, -4.01340479e-02,\n",
       "        -4.00622155e-02, -1.18242590e-02,  4.90506117e-02, -3.23916217e-02,\n",
       "         3.74711256e-02, -1.74873311e-03,  1.00536211e-02,  1.18460345e-02,\n",
       "         2.33297088e-02, -1.50092230e-02,  3.28099548e-02,  1.30607320e-02,\n",
       "        -6.62091109e-02, -3.96542784e-03,  7.51318198e-02,  1.85240759e-02,\n",
       "        -8.51122653e-02,  1.13754092e-02, -7.18892792e-03, -7.15014746e-02,\n",
       "         2.88271893e-03,  1.12704702e-02, -2.18584704e-02, -2.89953587e-02,\n",
       "        -8.43117185e-02, -1.78610697e-02, -5.78035057e-02,  1.11411259e-02,\n",
       "        -7.07774449e-02, -3.26488011e-02,  2.68517339e-02,  3.74259513e-02,\n",
       "         2.27735796e-02, -4.46180367e-02,  1.15790460e-02,  4.52016073e-02,\n",
       "        -1.39425852e-02, -4.14174272e-02, -2.86819502e-03,  3.26296551e-02,\n",
       "        -1.56754367e-02,  1.39783039e-02,  2.77423023e-02, -1.51693899e-02,\n",
       "         2.41771191e-02, -3.42445113e-02,  3.55539438e-02,  2.61276666e-03,\n",
       "         7.30011639e-03, -2.24931653e-02,  8.49814546e-03,  6.90340708e-02,\n",
       "        -1.37718616e-02, -2.99008735e-02, -4.51198468e-02, -1.03012998e-02,\n",
       "         4.85321118e-02,  1.07236231e-02, -1.89640514e-02,  3.16546519e-03,\n",
       "        -4.42667267e-02,  4.58991808e-03,  1.26217463e-02,  1.20700388e-02,\n",
       "         1.05019062e-01,  6.59232920e-02,  1.46778246e-02,  5.55458967e-03,\n",
       "        -3.18116526e-02,  1.04102543e-02,  1.63549813e-02, -3.97621428e-02,\n",
       "        -1.55548082e-02,  3.12691776e-02, -3.06377732e-04, -3.24934331e-02,\n",
       "         5.52649875e-02,  3.71434253e-05, -1.31939965e-02, -3.41403550e-02,\n",
       "         1.03556752e-03, -9.95484898e-03,  2.94961827e-02, -1.39228166e-02,\n",
       "         4.92334895e-03,  6.55638687e-03,  1.26115150e-02,  9.02410959e-03,\n",
       "         5.08786696e-03,  1.96007374e-02, -1.30854314e-02,  1.34495925e-02,\n",
       "        -4.84760591e-02,  2.35044448e-02, -5.28077053e-02, -4.29122086e-02,\n",
       "        -6.29424518e-02, -3.78939720e-02,  2.34044594e-02,  1.86892388e-02,\n",
       "        -4.65197963e-02, -2.28367177e-02,  6.20971102e-03, -1.86478118e-02,\n",
       "         9.91480207e-03,  1.71607814e-02, -7.18879039e-02,  1.10696433e-02,\n",
       "         4.28437929e-03, -1.76193739e-02,  1.32250703e-01,  3.85231040e-02,\n",
       "         3.76173628e-02,  2.62309541e-03, -2.16819144e-02,  1.76726319e-02,\n",
       "        -1.11571013e-03, -6.86651749e-02,  3.68485466e-02,  1.17969931e-02,\n",
       "         1.26228247e-02, -1.07932874e-02, -8.13824624e-03, -2.61528684e-02,\n",
       "         2.50297151e-02, -6.11631625e-02,  2.69675206e-03, -2.04792262e-02,\n",
       "        -1.08920935e-03, -7.64010207e-03,  2.76260609e-02, -1.64476756e-02,\n",
       "        -7.28916038e-03, -9.47264389e-03,  1.60172482e-02, -9.43564840e-03,\n",
       "         3.65549978e-02, -2.21045728e-02, -3.75730150e-02, -7.69881640e-03,\n",
       "         1.70994012e-03,  9.90819104e-02, -3.05269566e-02,  9.62928839e-02,\n",
       "        -2.85315490e-02,  3.71486640e-02,  4.46560068e-02, -9.03437231e-04,\n",
       "         6.59231297e-03,  7.35038208e-02, -2.45212911e-02, -8.36335419e-03,\n",
       "        -1.72148715e-02,  4.88153125e-02, -1.24484938e-02, -4.44812109e-03,\n",
       "         3.83772987e-04, -4.04010923e-03,  1.96783775e-02, -4.16992823e-02])]"
      ]
     },
     "execution_count": 13,
     "metadata": {},
     "output_type": "execute_result"
    }
   ],
   "source": [
    "embeddings"
   ]
  },
  {
   "cell_type": "code",
   "execution_count": 9,
   "id": "f7683f3a-d9e4-4c8e-9a66-c341911bef6b",
   "metadata": {},
   "outputs": [
    {
     "name": "stdout",
     "output_type": "stream",
     "text": [
      "[-0.02752976  0.0608853   0.00388525 -0.00215193 -0.02774976 -0.0118618\n",
      " -0.04020916 -0.06023417 -0.03813156  0.0100272 ]\n"
     ]
    }
   ],
   "source": [
    "test_embedding_0 = embedding_model.encode_queries([\"That is a test\"])[0]\n",
    "print(test_embedding_0[:10])"
   ]
  },
  {
   "cell_type": "markdown",
   "id": "5a778887",
   "metadata": {},
   "source": [
    "## 将数据加载到 Milvus"
   ]
  },
  {
   "cell_type": "markdown",
   "id": "02b23a24",
   "metadata": {},
   "source": [
    "### 创建 Collection"
   ]
  },
  {
   "cell_type": "code",
   "execution_count": 16,
   "id": "95e84b8c",
   "metadata": {},
   "outputs": [],
   "source": [
    "from pymilvus import MilvusClient\n",
    "\n",
    "milvus_client = MilvusClient(uri=\"./milvus_demo.db\")\n",
    "\n",
    "collection_name = \"milvus_rag\""
   ]
  },
  {
   "cell_type": "markdown",
   "id": "68648561",
   "metadata": {},
   "source": [
    "关于 `MilvusClient` 的参数：\n",
    "\n",
    "*   将 `uri` 设置为本地文件，例如 `./milvus.db`，是最方便的方法，因为它会自动利用 Milvus Lite 将所有数据存储在此文件中。\n",
    "*   如果您有大规模数据，可以在 Docker 或 Kubernetes 上设置性能更高的 Milvus 服务器。在此设置中，请使用服务器 URI，例如 `http://localhost:19530`，作为您的 `uri`。\n",
    "*   如果您想使用 Zilliz Cloud（Milvus 的完全托管云服务），请调整 `uri` 和 `token`，它们对应 Zilliz Cloud 中的 Public Endpoint 和 Api key。"
   ]
  },
  {
   "cell_type": "markdown",
   "id": "5ce1bf3e",
   "metadata": {},
   "source": [
    "检查 collection 是否已存在，如果存在则删除它。"
   ]
  },
  {
   "cell_type": "code",
   "execution_count": 17,
   "id": "aee85c08",
   "metadata": {},
   "outputs": [],
   "source": [
    "if milvus_client.has_collection(collection_name):\n",
    "    milvus_client.drop_collection(collection_name)"
   ]
  },
  {
   "cell_type": "markdown",
   "id": "73eb379f",
   "metadata": {},
   "source": [
    "创建一个具有指定参数的新 collection。\n",
    "\n",
    "如果我们不指定任何字段信息，Milvus 将自动创建一个默认的 `id` 字段作为主键，以及一个 `vector` 字段来存储向量数据。一个保留的 JSON 字段用于存储非 schema 定义的字段及其值。\n",
    "\n",
    "`metric_type` (距离度量类型):\n",
    "     作用：定义如何计算向量之间的相似程度。\n",
    "     例如：`IP` (内积) - 值越大通常越相似；`L2` (欧氏距离) - 值越小越相似；`COSINE` (余弦相似度) - 通常转换为距离，值越小越相似。\n",
    "     选择依据：根据你的嵌入模型的特性和期望的相似性定义来选择。\n",
    "\n",
    " `consistency_level` (一致性级别):\n",
    "     作用：定义数据写入后，读取操作能多快看到这些新数据。\n",
    "     例如：\n",
    "         `Strong` (强一致性): 总是读到最新数据，可能稍慢。\n",
    "         `Bounded` (有界过期): 可能读到几秒内旧数据，性能较好 (默认)。\n",
    "         `Session` (会话一致性): 自己写入的自己能立刻读到。\n",
    "         `Eventually` (最终一致性): 最终会读到新数据，但没时间保证，性能最好。\n",
    "     选择依据：在数据实时性要求和系统性能之间做权衡。\n",
    "\n",
    "简单来说：\n",
    " `metric_type`：怎么算相似。\n",
    " `consistency_level`：新数据多久能被读到。"
   ]
  },
  {
   "cell_type": "code",
   "execution_count": 18,
   "id": "bd0b2df8",
   "metadata": {},
   "outputs": [],
   "source": [
    "milvus_client.create_collection(\n",
    "    collection_name=collection_name,\n",
    "    dimension=embedding_dim,\n",
    "    metric_type=\"IP\",  # 内积距离\n",
    "    consistency_level=\"Strong\",  # 支持的值为 (`\"Strong\"`, `\"Session\"`, `\"Bounded\"`, `\"Eventually\"`)。更多详情请参见 https://milvus.io/docs/consistency.md#Consistency-Level。\n",
    ")"
   ]
  },
  {
   "cell_type": "markdown",
   "id": "9c15bafb",
   "metadata": {},
   "source": [
    "### 插入数据"
   ]
  },
  {
   "cell_type": "markdown",
   "id": "171d3b35",
   "metadata": {},
   "source": [
    "遍历文本行，创建嵌入，然后将数据插入 Milvus。\n",
    "\n",
    "这里有一个新字段 `text`，它是在 collection schema 中未定义的字段。它将自动添加到保留的 JSON 动态字段中，该字段在高级别上可以被视为普通字段。"
   ]
  },
  {
   "cell_type": "code",
   "execution_count": 19,
   "id": "ad077094",
   "metadata": {},
   "outputs": [
    {
     "name": "stderr",
     "output_type": "stream",
     "text": [
      "Creating embeddings: 100%|███████████████████████████████████████████████████████████████████████████████████████████████████████████████████████████████████████████████████████████████████| 72/72 [00:00<00:00, 145467.19it/s]\n"
     ]
    },
    {
     "data": {
      "text/plain": [
       "{'insert_count': 72, 'ids': [0, 1, 2, 3, 4, 5, 6, 7, 8, 9, 10, 11, 12, 13, 14, 15, 16, 17, 18, 19, 20, 21, 22, 23, 24, 25, 26, 27, 28, 29, 30, 31, 32, 33, 34, 35, 36, 37, 38, 39, 40, 41, 42, 43, 44, 45, 46, 47, 48, 49, 50, 51, 52, 53, 54, 55, 56, 57, 58, 59, 60, 61, 62, 63, 64, 65, 66, 67, 68, 69, 70, 71], 'cost': 0}"
      ]
     },
     "execution_count": 19,
     "metadata": {},
     "output_type": "execute_result"
    }
   ],
   "source": [
    "from tqdm import tqdm\n",
    "\n",
    "data = []\n",
    "\n",
    "doc_embeddings = embedding_model.encode_documents(text_lines)\n",
    "\n",
    "for i, line in enumerate(tqdm(text_lines, desc=\"Creating embeddings\")):\n",
    "    data.append({\"id\": i, \"vector\": doc_embeddings[i], \"text\": line})\n",
    "\n",
    "milvus_client.insert(collection_name=collection_name, data=data)"
   ]
  },
  {
   "cell_type": "markdown",
   "id": "bd971f6b",
   "metadata": {},
   "source": [
    "## 构建 RAG"
   ]
  },
  {
   "cell_type": "markdown",
   "id": "534dc076",
   "metadata": {},
   "source": [
    "### 检索查询数据"
   ]
  },
  {
   "cell_type": "markdown",
   "id": "5a6fd7e7",
   "metadata": {},
   "source": [
    "我们指定一个关于 Milvus 的常见问题。"
   ]
  },
  {
   "cell_type": "code",
   "execution_count": 28,
   "id": "6e2f5c6a",
   "metadata": {},
   "outputs": [],
   "source": [
    "question = \"What is metadata in milvus?\""
   ]
  },
  {
   "cell_type": "markdown",
   "id": "52401a38",
   "metadata": {},
   "source": [
    "在 collection 中搜索该问题，并检索语义上最匹配的前3个结果。"
   ]
  },
  {
   "cell_type": "code",
   "execution_count": 29,
   "id": "0dd4cbac",
   "metadata": {},
   "outputs": [],
   "source": [
    "search_res = milvus_client.search(\n",
    "    collection_name=collection_name,\n",
    "    data=embedding_model.encode_queries(\n",
    "        [question]\n",
    "    ),  # 将问题转换为嵌入向量\n",
    "    limit=3,  # 返回前3个结果\n",
    "    search_params={\"metric_type\": \"IP\", \"params\": {}},  # 内积距离\n",
    "    output_fields=[\"text\"],  # 返回 text 字段\n",
    ")"
   ]
  },
  {
   "cell_type": "markdown",
   "id": "ffcce135",
   "metadata": {},
   "source": [
    "让我们看一下查询的搜索结果"
   ]
  },
  {
   "cell_type": "code",
   "execution_count": 22,
   "id": "0a8b8a2e-319c-4a30-9aa0-1da9c51949ff",
   "metadata": {},
   "outputs": [
    {
     "data": {
      "text/plain": [
       "[{'id': 44, 'distance': 0.65726637840271, 'entity': {'text': ' Where does Milvus store data?\\n\\nMilvus deals with two types of data, inserted data and metadata. \\n\\nInserted data, including vector data, scalar data, and collection-specific schema, are stored in persistent storage as incremental log. Milvus supports multiple object storage backends, including [MinIO](https://min.io/), [AWS S3](https://aws.amazon.com/s3/?nc1=h_ls), [Google Cloud Storage](https://cloud.google.com/storage?hl=en#object-storage-for-companies-of-all-sizes) (GCS), [Azure Blob Storage](https://azure.microsoft.com/en-us/products/storage/blobs), [Alibaba Cloud OSS](https://www.alibabacloud.com/product/object-storage-service), and [Tencent Cloud Object Storage](https://www.tencentcloud.com/products/cos) (COS).\\n\\nMetadata are generated within Milvus. Each Milvus module has its own metadata that are stored in etcd.\\n\\n###'}}, {'id': 55, 'distance': 0.6312144994735718, 'entity': {'text': \"How does Milvus flush data?\\n\\nMilvus returns success when inserted data are loaded to the message queue. However, the data are not yet flushed to the disk. Then Milvus' data node writes the data in the message queue to persistent storage as incremental logs. If `flush()` is called, the data node is forced to write all data in the message queue to persistent storage immediately.\\n\\n###\"}}, {'id': 70, 'distance': 0.6115781664848328, 'entity': {'text': 'How does Milvus handle vector data types and precision?\\n\\nMilvus supports Binary, Float32, Float16, and BFloat16 vector types.\\n\\n- Binary vectors: Store binary data as sequences of 0s and 1s, used in image processing and information retrieval.\\n- Float32 vectors: Default storage with a precision of about 7 decimal digits. Even Float64 values are stored with Float32 precision, leading to potential precision loss upon retrieval.\\n- Float16 and BFloat16 vectors: Offer reduced precision and memory usage. Float16 is suitable for applications with limited bandwidth and storage, while BFloat16 balances range and efficiency, commonly used in deep learning to reduce computational requirements without significantly impacting accuracy.\\n\\n###'}}]"
      ]
     },
     "execution_count": 22,
     "metadata": {},
     "output_type": "execute_result"
    }
   ],
   "source": [
    "search_res[0]"
   ]
  },
  {
   "cell_type": "code",
   "execution_count": 30,
   "id": "6a7f6eb3",
   "metadata": {},
   "outputs": [
    {
     "name": "stdout",
     "output_type": "stream",
     "text": [
      "[\n",
      "    [\n",
      "        \" Where does Milvus store data?\\n\\nMilvus deals with two types of data, inserted data and metadata. \\n\\nInserted data, including vector data, scalar data, and collection-specific schema, are stored in persistent storage as incremental log. Milvus supports multiple object storage backends, including [MinIO](https://min.io/), [AWS S3](https://aws.amazon.com/s3/?nc1=h_ls), [Google Cloud Storage](https://cloud.google.com/storage?hl=en#object-storage-for-companies-of-all-sizes) (GCS), [Azure Blob Storage](https://azure.microsoft.com/en-us/products/storage/blobs), [Alibaba Cloud OSS](https://www.alibabacloud.com/product/object-storage-service), and [Tencent Cloud Object Storage](https://www.tencentcloud.com/products/cos) (COS).\\n\\nMetadata are generated within Milvus. Each Milvus module has its own metadata that are stored in etcd.\\n\\n###\",\n",
      "        0.6507319808006287\n",
      "    ],\n",
      "    [\n",
      "        \"Why is there no vector data in etcd?\\n\\netcd stores Milvus module metadata; MinIO stores entities.\\n\\n###\",\n",
      "        0.5860412120819092\n",
      "    ],\n",
      "    [\n",
      "        \"How does Milvus handle vector data types and precision?\\n\\nMilvus supports Binary, Float32, Float16, and BFloat16 vector types.\\n\\n- Binary vectors: Store binary data as sequences of 0s and 1s, used in image processing and information retrieval.\\n- Float32 vectors: Default storage with a precision of about 7 decimal digits. Even Float64 values are stored with Float32 precision, leading to potential precision loss upon retrieval.\\n- Float16 and BFloat16 vectors: Offer reduced precision and memory usage. Float16 is suitable for applications with limited bandwidth and storage, while BFloat16 balances range and efficiency, commonly used in deep learning to reduce computational requirements without significantly impacting accuracy.\\n\\n###\",\n",
      "        0.5540521144866943\n",
      "    ]\n",
      "]\n"
     ]
    }
   ],
   "source": [
    "import json\n",
    "\n",
    "retrieved_lines_with_distances = [\n",
    "    (res[\"entity\"][\"text\"], res[\"distance\"]) for res in search_res[0]\n",
    "]\n",
    "print(json.dumps(retrieved_lines_with_distances, indent=4))"
   ]
  },
  {
   "cell_type": "markdown",
   "id": "ccd4c186",
   "metadata": {},
   "source": [
    "### 使用 LLM 获取 RAG 响应"
   ]
  },
  {
   "cell_type": "markdown",
   "id": "4cd1ae3a",
   "metadata": {},
   "source": [
    "将检索到的文档转换为字符串格式。"
   ]
  },
  {
   "cell_type": "code",
   "execution_count": 31,
   "id": "0676448f",
   "metadata": {},
   "outputs": [],
   "source": [
    "context = \"\\n\".join(\n",
    "    [line_with_distance[0] for line_with_distance in retrieved_lines_with_distances]\n",
    ")"
   ]
  },
  {
   "cell_type": "code",
   "execution_count": 18,
   "id": "107df42a-b3f7-48a8-b66b-fc82fe3ec174",
   "metadata": {},
   "outputs": [
    {
     "data": {
      "text/plain": [
       "\" Where does Milvus store data?\\n\\nMilvus deals with two types of data, inserted data and metadata. \\n\\nInserted data, including vector data, scalar data, and collection-specific schema, are stored in persistent storage as incremental log. Milvus supports multiple object storage backends, including [MinIO](https://min.io/), [AWS S3](https://aws.amazon.com/s3/?nc1=h_ls), [Google Cloud Storage](https://cloud.google.com/storage?hl=en#object-storage-for-companies-of-all-sizes) (GCS), [Azure Blob Storage](https://azure.microsoft.com/en-us/products/storage/blobs), [Alibaba Cloud OSS](https://www.alibabacloud.com/product/object-storage-service), and [Tencent Cloud Object Storage](https://www.tencentcloud.com/products/cos) (COS).\\n\\nMetadata are generated within Milvus. Each Milvus module has its own metadata that are stored in etcd.\\n\\n###\\nHow does Milvus flush data?\\n\\nMilvus returns success when inserted data are loaded to the message queue. However, the data are not yet flushed to the disk. Then Milvus' data node writes the data in the message queue to persistent storage as incremental logs. If `flush()` is called, the data node is forced to write all data in the message queue to persistent storage immediately.\\n\\n###\\nHow does Milvus handle vector data types and precision?\\n\\nMilvus supports Binary, Float32, Float16, and BFloat16 vector types.\\n\\n- Binary vectors: Store binary data as sequences of 0s and 1s, used in image processing and information retrieval.\\n- Float32 vectors: Default storage with a precision of about 7 decimal digits. Even Float64 values are stored with Float32 precision, leading to potential precision loss upon retrieval.\\n- Float16 and BFloat16 vectors: Offer reduced precision and memory usage. Float16 is suitable for applications with limited bandwidth and storage, while BFloat16 balances range and efficiency, commonly used in deep learning to reduce computational requirements without significantly impacting accuracy.\\n\\n###\""
      ]
     },
     "execution_count": 18,
     "metadata": {},
     "output_type": "execute_result"
    }
   ],
   "source": [
    "context"
   ]
  },
  {
   "cell_type": "code",
   "execution_count": 32,
   "id": "19998758-7f98-4cb8-8789-625fcfaad00e",
   "metadata": {},
   "outputs": [
    {
     "data": {
      "text/plain": [
       "'What is metadata in milvus?'"
      ]
     },
     "execution_count": 32,
     "metadata": {},
     "output_type": "execute_result"
    }
   ],
   "source": [
    "question"
   ]
  },
  {
   "cell_type": "markdown",
   "id": "7ad25756",
   "metadata": {},
   "source": [
    "为语言模型定义系统和用户提示。此提示是使用从 Milvus 检索到的文档组装而成的。"
   ]
  },
  {
   "cell_type": "code",
   "execution_count": 33,
   "id": "b655f6f3",
   "metadata": {},
   "outputs": [],
   "source": [
    "SYSTEM_PROMPT = \"\"\"\n",
    "Human: 你是一个 AI 助手。你能够从提供的上下文段落片段中找到问题的答案。\n",
    "\"\"\"\n",
    "USER_PROMPT = f\"\"\"\n",
    "请使用以下用 <context> 标签括起来的信息片段来回答用 <question> 标签括起来的问题。最后追加原始回答的中文翻译，并用 <translated>和</translated> 标签标注。\n",
    "<context>\n",
    "{context}\n",
    "</context>\n",
    "<question>\n",
    "{question}\n",
    "</question>\n",
    "<translated>\n",
    "</translated>\n",
    "\"\"\""
   ]
  },
  {
   "cell_type": "code",
   "execution_count": 26,
   "id": "97089c31-f85c-47a9-8498-78520513bc67",
   "metadata": {},
   "outputs": [
    {
     "data": {
      "text/plain": [
       "\"\\n请使用以下用 <context> 标签括起来的信息片段来回答用 <question> 标签括起来的问题。最后追加原始回答的中文翻译，并用 <translated>和</translated> 标签标注。\\n<context>\\n Where does Milvus store data?\\n\\nMilvus deals with two types of data, inserted data and metadata. \\n\\nInserted data, including vector data, scalar data, and collection-specific schema, are stored in persistent storage as incremental log. Milvus supports multiple object storage backends, including [MinIO](https://min.io/), [AWS S3](https://aws.amazon.com/s3/?nc1=h_ls), [Google Cloud Storage](https://cloud.google.com/storage?hl=en#object-storage-for-companies-of-all-sizes) (GCS), [Azure Blob Storage](https://azure.microsoft.com/en-us/products/storage/blobs), [Alibaba Cloud OSS](https://www.alibabacloud.com/product/object-storage-service), and [Tencent Cloud Object Storage](https://www.tencentcloud.com/products/cos) (COS).\\n\\nMetadata are generated within Milvus. Each Milvus module has its own metadata that are stored in etcd.\\n\\n###\\nHow does Milvus flush data?\\n\\nMilvus returns success when inserted data are loaded to the message queue. However, the data are not yet flushed to the disk. Then Milvus' data node writes the data in the message queue to persistent storage as incremental logs. If `flush()` is called, the data node is forced to write all data in the message queue to persistent storage immediately.\\n\\n###\\nHow does Milvus handle vector data types and precision?\\n\\nMilvus supports Binary, Float32, Float16, and BFloat16 vector types.\\n\\n- Binary vectors: Store binary data as sequences of 0s and 1s, used in image processing and information retrieval.\\n- Float32 vectors: Default storage with a precision of about 7 decimal digits. Even Float64 values are stored with Float32 precision, leading to potential precision loss upon retrieval.\\n- Float16 and BFloat16 vectors: Offer reduced precision and memory usage. Float16 is suitable for applications with limited bandwidth and storage, while BFloat16 balances range and efficiency, commonly used in deep learning to reduce computational requirements without significantly impacting accuracy.\\n\\n###\\n</context>\\n<question>\\nHow is data stored in milvus?\\n</question>\\n<translated>\\n</translated>\\n\""
      ]
     },
     "execution_count": 26,
     "metadata": {},
     "output_type": "execute_result"
    }
   ],
   "source": [
    "USER_PROMPT"
   ]
  },
  {
   "cell_type": "markdown",
   "id": "184b457f",
   "metadata": {},
   "source": [
    "使用 DeepSeek 提供的 `deepseek-chat` 模型根据提示生成响应。"
   ]
  },
  {
   "cell_type": "code",
   "execution_count": 34,
   "id": "638a7561",
   "metadata": {},
   "outputs": [
    {
     "name": "stdout",
     "output_type": "stream",
     "text": [
      "Metadata in Milvus refers to the data generated within Milvus that describes the structure and properties of the system's modules. Each Milvus module has its own metadata, which is stored in etcd. Unlike inserted data (such as vector and scalar data), metadata is not stored in object storage backends like MinIO or AWS S3.\n",
      "\n",
      "<translated>\n",
      "Milvus中的元数据是指在Milvus内部生成的、描述系统模块结构和属性的数据。每个Milvus模块都有自己的元数据，这些元数据存储在etcd中。与插入的数据（如向量和标量数据）不同，元数据不会存储在MinIO或AWS S3等对象存储后端。\n",
      "</translated>\n"
     ]
    }
   ],
   "source": [
    "response = deepseek_client.chat.completions.create(\n",
    "    model=\"deepseek-chat\",\n",
    "    messages=[\n",
    "        {\"role\": \"system\", \"content\": SYSTEM_PROMPT},\n",
    "        {\"role\": \"user\", \"content\": USER_PROMPT},\n",
    "    ],\n",
    ")\n",
    "print(response.choices[0].message.content)"
   ]
  },
  {
   "cell_type": "code",
   "execution_count": null,
   "id": "50ce3b55-7daa-4727-95bd-3b00f6aa2b03",
   "metadata": {},
   "outputs": [],
   "source": []
  }
 ],
 "metadata": {
  "kernelspec": {
   "display_name": "Python 3 (ipykernel)",
   "language": "python",
   "name": "python3"
  },
  "language_info": {
   "codemirror_mode": {
    "name": "ipython",
    "version": 3
   },
   "file_extension": ".py",
   "mimetype": "text/x-python",
   "name": "python",
   "nbconvert_exporter": "python",
   "pygments_lexer": "ipython3",
   "version": "3.13.5"
  }
 },
 "nbformat": 4,
 "nbformat_minor": 5
}
